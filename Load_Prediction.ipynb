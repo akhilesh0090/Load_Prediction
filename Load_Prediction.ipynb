{
  "nbformat": 4,
  "nbformat_minor": 0,
  "metadata": {
    "colab": {
      "provenance": [],
      "include_colab_link": true
    },
    "kernelspec": {
      "name": "python3",
      "display_name": "Python 3"
    },
    "language_info": {
      "name": "python"
    }
  },
  "cells": [
    {
      "cell_type": "markdown",
      "metadata": {
        "id": "view-in-github",
        "colab_type": "text"
      },
      "source": [
        "<a href=\"https://colab.research.google.com/github/akhilesh0090/Load_Prediction/blob/main/Load_Prediction.ipynb\" target=\"_parent\"><img src=\"https://colab.research.google.com/assets/colab-badge.svg\" alt=\"Open In Colab\"/></a>"
      ]
    },
    {
      "cell_type": "code",
      "execution_count": 96,
      "metadata": {
        "id": "ElwZTto36znd"
      },
      "outputs": [],
      "source": [
        "import pandas as pd\n",
        "import numpy as np\n",
        "import scipy.stats as stats"
      ]
    },
    {
      "cell_type": "code",
      "source": [
        "df = pd.read_csv('load_data.csv')"
      ],
      "metadata": {
        "id": "fhJBD98E7fAT"
      },
      "execution_count": 97,
      "outputs": []
    },
    {
      "cell_type": "code",
      "source": [
        "df.sample(5)"
      ],
      "metadata": {
        "colab": {
          "base_uri": "https://localhost:8080/",
          "height": 399
        },
        "id": "VigPyVU17fW3",
        "outputId": "6ca0fe61-56f4-4f0d-d694-ead69ea113a2"
      },
      "execution_count": 98,
      "outputs": [
        {
          "output_type": "execute_result",
          "data": {
            "text/plain": [
              "              Date_Time  Usage_kWh  Lagging_Current_Reactive.Power_kVarh  \\\n",
              "22376  22-08-2018 02:15       2.63                                  4.28   \n",
              "9204   06-04-2018 21:15      28.33                                  0.00   \n",
              "26178  30-09-2018 16:45       2.66                                  0.00   \n",
              "5497   27-02-2018 06:30       3.85                                  3.02   \n",
              "3587   07-02-2018 09:00      82.62                                 41.47   \n",
              "\n",
              "       Leading_Current_Reactive_Power_kVarh  CO2(tCO2)  \\\n",
              "22376                                  0.00   0.000000   \n",
              "9204                                   9.22   0.015218   \n",
              "26178                                 11.81   0.000000   \n",
              "5497                                   0.00   0.000000   \n",
              "3587                                   0.00   0.040000   \n",
              "\n",
              "       Lagging_Current_Power_Factor  Leading_Current_Power_Factor      NSM  \\\n",
              "22376                         52.35                        100.00   8100.0   \n",
              "9204                         100.00                         95.09  76500.0   \n",
              "26178                        100.00                         21.97  60300.0   \n",
              "5497                          78.68                        100.00  23400.0   \n",
              "3587                          89.37                        100.00      NaN   \n",
              "\n",
              "         Load_Type  \n",
              "22376   Light_Load  \n",
              "9204   Medium_Load  \n",
              "26178   Light_Load  \n",
              "5497    Light_Load  \n",
              "3587    Light_Load  "
            ],
            "text/html": [
              "\n",
              "  <div id=\"df-5eefef46-ecb6-4117-8bae-7b6a71f69cde\" class=\"colab-df-container\">\n",
              "    <div>\n",
              "<style scoped>\n",
              "    .dataframe tbody tr th:only-of-type {\n",
              "        vertical-align: middle;\n",
              "    }\n",
              "\n",
              "    .dataframe tbody tr th {\n",
              "        vertical-align: top;\n",
              "    }\n",
              "\n",
              "    .dataframe thead th {\n",
              "        text-align: right;\n",
              "    }\n",
              "</style>\n",
              "<table border=\"1\" class=\"dataframe\">\n",
              "  <thead>\n",
              "    <tr style=\"text-align: right;\">\n",
              "      <th></th>\n",
              "      <th>Date_Time</th>\n",
              "      <th>Usage_kWh</th>\n",
              "      <th>Lagging_Current_Reactive.Power_kVarh</th>\n",
              "      <th>Leading_Current_Reactive_Power_kVarh</th>\n",
              "      <th>CO2(tCO2)</th>\n",
              "      <th>Lagging_Current_Power_Factor</th>\n",
              "      <th>Leading_Current_Power_Factor</th>\n",
              "      <th>NSM</th>\n",
              "      <th>Load_Type</th>\n",
              "    </tr>\n",
              "  </thead>\n",
              "  <tbody>\n",
              "    <tr>\n",
              "      <th>22376</th>\n",
              "      <td>22-08-2018 02:15</td>\n",
              "      <td>2.63</td>\n",
              "      <td>4.28</td>\n",
              "      <td>0.00</td>\n",
              "      <td>0.000000</td>\n",
              "      <td>52.35</td>\n",
              "      <td>100.00</td>\n",
              "      <td>8100.0</td>\n",
              "      <td>Light_Load</td>\n",
              "    </tr>\n",
              "    <tr>\n",
              "      <th>9204</th>\n",
              "      <td>06-04-2018 21:15</td>\n",
              "      <td>28.33</td>\n",
              "      <td>0.00</td>\n",
              "      <td>9.22</td>\n",
              "      <td>0.015218</td>\n",
              "      <td>100.00</td>\n",
              "      <td>95.09</td>\n",
              "      <td>76500.0</td>\n",
              "      <td>Medium_Load</td>\n",
              "    </tr>\n",
              "    <tr>\n",
              "      <th>26178</th>\n",
              "      <td>30-09-2018 16:45</td>\n",
              "      <td>2.66</td>\n",
              "      <td>0.00</td>\n",
              "      <td>11.81</td>\n",
              "      <td>0.000000</td>\n",
              "      <td>100.00</td>\n",
              "      <td>21.97</td>\n",
              "      <td>60300.0</td>\n",
              "      <td>Light_Load</td>\n",
              "    </tr>\n",
              "    <tr>\n",
              "      <th>5497</th>\n",
              "      <td>27-02-2018 06:30</td>\n",
              "      <td>3.85</td>\n",
              "      <td>3.02</td>\n",
              "      <td>0.00</td>\n",
              "      <td>0.000000</td>\n",
              "      <td>78.68</td>\n",
              "      <td>100.00</td>\n",
              "      <td>23400.0</td>\n",
              "      <td>Light_Load</td>\n",
              "    </tr>\n",
              "    <tr>\n",
              "      <th>3587</th>\n",
              "      <td>07-02-2018 09:00</td>\n",
              "      <td>82.62</td>\n",
              "      <td>41.47</td>\n",
              "      <td>0.00</td>\n",
              "      <td>0.040000</td>\n",
              "      <td>89.37</td>\n",
              "      <td>100.00</td>\n",
              "      <td>NaN</td>\n",
              "      <td>Light_Load</td>\n",
              "    </tr>\n",
              "  </tbody>\n",
              "</table>\n",
              "</div>\n",
              "    <div class=\"colab-df-buttons\">\n",
              "\n",
              "  <div class=\"colab-df-container\">\n",
              "    <button class=\"colab-df-convert\" onclick=\"convertToInteractive('df-5eefef46-ecb6-4117-8bae-7b6a71f69cde')\"\n",
              "            title=\"Convert this dataframe to an interactive table.\"\n",
              "            style=\"display:none;\">\n",
              "\n",
              "  <svg xmlns=\"http://www.w3.org/2000/svg\" height=\"24px\" viewBox=\"0 -960 960 960\">\n",
              "    <path d=\"M120-120v-720h720v720H120Zm60-500h600v-160H180v160Zm220 220h160v-160H400v160Zm0 220h160v-160H400v160ZM180-400h160v-160H180v160Zm440 0h160v-160H620v160ZM180-180h160v-160H180v160Zm440 0h160v-160H620v160Z\"/>\n",
              "  </svg>\n",
              "    </button>\n",
              "\n",
              "  <style>\n",
              "    .colab-df-container {\n",
              "      display:flex;\n",
              "      gap: 12px;\n",
              "    }\n",
              "\n",
              "    .colab-df-convert {\n",
              "      background-color: #E8F0FE;\n",
              "      border: none;\n",
              "      border-radius: 50%;\n",
              "      cursor: pointer;\n",
              "      display: none;\n",
              "      fill: #1967D2;\n",
              "      height: 32px;\n",
              "      padding: 0 0 0 0;\n",
              "      width: 32px;\n",
              "    }\n",
              "\n",
              "    .colab-df-convert:hover {\n",
              "      background-color: #E2EBFA;\n",
              "      box-shadow: 0px 1px 2px rgba(60, 64, 67, 0.3), 0px 1px 3px 1px rgba(60, 64, 67, 0.15);\n",
              "      fill: #174EA6;\n",
              "    }\n",
              "\n",
              "    .colab-df-buttons div {\n",
              "      margin-bottom: 4px;\n",
              "    }\n",
              "\n",
              "    [theme=dark] .colab-df-convert {\n",
              "      background-color: #3B4455;\n",
              "      fill: #D2E3FC;\n",
              "    }\n",
              "\n",
              "    [theme=dark] .colab-df-convert:hover {\n",
              "      background-color: #434B5C;\n",
              "      box-shadow: 0px 1px 3px 1px rgba(0, 0, 0, 0.15);\n",
              "      filter: drop-shadow(0px 1px 2px rgba(0, 0, 0, 0.3));\n",
              "      fill: #FFFFFF;\n",
              "    }\n",
              "  </style>\n",
              "\n",
              "    <script>\n",
              "      const buttonEl =\n",
              "        document.querySelector('#df-5eefef46-ecb6-4117-8bae-7b6a71f69cde button.colab-df-convert');\n",
              "      buttonEl.style.display =\n",
              "        google.colab.kernel.accessAllowed ? 'block' : 'none';\n",
              "\n",
              "      async function convertToInteractive(key) {\n",
              "        const element = document.querySelector('#df-5eefef46-ecb6-4117-8bae-7b6a71f69cde');\n",
              "        const dataTable =\n",
              "          await google.colab.kernel.invokeFunction('convertToInteractive',\n",
              "                                                    [key], {});\n",
              "        if (!dataTable) return;\n",
              "\n",
              "        const docLinkHtml = 'Like what you see? Visit the ' +\n",
              "          '<a target=\"_blank\" href=https://colab.research.google.com/notebooks/data_table.ipynb>data table notebook</a>'\n",
              "          + ' to learn more about interactive tables.';\n",
              "        element.innerHTML = '';\n",
              "        dataTable['output_type'] = 'display_data';\n",
              "        await google.colab.output.renderOutput(dataTable, element);\n",
              "        const docLink = document.createElement('div');\n",
              "        docLink.innerHTML = docLinkHtml;\n",
              "        element.appendChild(docLink);\n",
              "      }\n",
              "    </script>\n",
              "  </div>\n",
              "\n",
              "\n",
              "<div id=\"df-52ec551d-bb20-4adb-b4a2-a4f6a0582e27\">\n",
              "  <button class=\"colab-df-quickchart\" onclick=\"quickchart('df-52ec551d-bb20-4adb-b4a2-a4f6a0582e27')\"\n",
              "            title=\"Suggest charts\"\n",
              "            style=\"display:none;\">\n",
              "\n",
              "<svg xmlns=\"http://www.w3.org/2000/svg\" height=\"24px\"viewBox=\"0 0 24 24\"\n",
              "     width=\"24px\">\n",
              "    <g>\n",
              "        <path d=\"M19 3H5c-1.1 0-2 .9-2 2v14c0 1.1.9 2 2 2h14c1.1 0 2-.9 2-2V5c0-1.1-.9-2-2-2zM9 17H7v-7h2v7zm4 0h-2V7h2v10zm4 0h-2v-4h2v4z\"/>\n",
              "    </g>\n",
              "</svg>\n",
              "  </button>\n",
              "\n",
              "<style>\n",
              "  .colab-df-quickchart {\n",
              "      --bg-color: #E8F0FE;\n",
              "      --fill-color: #1967D2;\n",
              "      --hover-bg-color: #E2EBFA;\n",
              "      --hover-fill-color: #174EA6;\n",
              "      --disabled-fill-color: #AAA;\n",
              "      --disabled-bg-color: #DDD;\n",
              "  }\n",
              "\n",
              "  [theme=dark] .colab-df-quickchart {\n",
              "      --bg-color: #3B4455;\n",
              "      --fill-color: #D2E3FC;\n",
              "      --hover-bg-color: #434B5C;\n",
              "      --hover-fill-color: #FFFFFF;\n",
              "      --disabled-bg-color: #3B4455;\n",
              "      --disabled-fill-color: #666;\n",
              "  }\n",
              "\n",
              "  .colab-df-quickchart {\n",
              "    background-color: var(--bg-color);\n",
              "    border: none;\n",
              "    border-radius: 50%;\n",
              "    cursor: pointer;\n",
              "    display: none;\n",
              "    fill: var(--fill-color);\n",
              "    height: 32px;\n",
              "    padding: 0;\n",
              "    width: 32px;\n",
              "  }\n",
              "\n",
              "  .colab-df-quickchart:hover {\n",
              "    background-color: var(--hover-bg-color);\n",
              "    box-shadow: 0 1px 2px rgba(60, 64, 67, 0.3), 0 1px 3px 1px rgba(60, 64, 67, 0.15);\n",
              "    fill: var(--button-hover-fill-color);\n",
              "  }\n",
              "\n",
              "  .colab-df-quickchart-complete:disabled,\n",
              "  .colab-df-quickchart-complete:disabled:hover {\n",
              "    background-color: var(--disabled-bg-color);\n",
              "    fill: var(--disabled-fill-color);\n",
              "    box-shadow: none;\n",
              "  }\n",
              "\n",
              "  .colab-df-spinner {\n",
              "    border: 2px solid var(--fill-color);\n",
              "    border-color: transparent;\n",
              "    border-bottom-color: var(--fill-color);\n",
              "    animation:\n",
              "      spin 1s steps(1) infinite;\n",
              "  }\n",
              "\n",
              "  @keyframes spin {\n",
              "    0% {\n",
              "      border-color: transparent;\n",
              "      border-bottom-color: var(--fill-color);\n",
              "      border-left-color: var(--fill-color);\n",
              "    }\n",
              "    20% {\n",
              "      border-color: transparent;\n",
              "      border-left-color: var(--fill-color);\n",
              "      border-top-color: var(--fill-color);\n",
              "    }\n",
              "    30% {\n",
              "      border-color: transparent;\n",
              "      border-left-color: var(--fill-color);\n",
              "      border-top-color: var(--fill-color);\n",
              "      border-right-color: var(--fill-color);\n",
              "    }\n",
              "    40% {\n",
              "      border-color: transparent;\n",
              "      border-right-color: var(--fill-color);\n",
              "      border-top-color: var(--fill-color);\n",
              "    }\n",
              "    60% {\n",
              "      border-color: transparent;\n",
              "      border-right-color: var(--fill-color);\n",
              "    }\n",
              "    80% {\n",
              "      border-color: transparent;\n",
              "      border-right-color: var(--fill-color);\n",
              "      border-bottom-color: var(--fill-color);\n",
              "    }\n",
              "    90% {\n",
              "      border-color: transparent;\n",
              "      border-bottom-color: var(--fill-color);\n",
              "    }\n",
              "  }\n",
              "</style>\n",
              "\n",
              "  <script>\n",
              "    async function quickchart(key) {\n",
              "      const quickchartButtonEl =\n",
              "        document.querySelector('#' + key + ' button');\n",
              "      quickchartButtonEl.disabled = true;  // To prevent multiple clicks.\n",
              "      quickchartButtonEl.classList.add('colab-df-spinner');\n",
              "      try {\n",
              "        const charts = await google.colab.kernel.invokeFunction(\n",
              "            'suggestCharts', [key], {});\n",
              "      } catch (error) {\n",
              "        console.error('Error during call to suggestCharts:', error);\n",
              "      }\n",
              "      quickchartButtonEl.classList.remove('colab-df-spinner');\n",
              "      quickchartButtonEl.classList.add('colab-df-quickchart-complete');\n",
              "    }\n",
              "    (() => {\n",
              "      let quickchartButtonEl =\n",
              "        document.querySelector('#df-52ec551d-bb20-4adb-b4a2-a4f6a0582e27 button');\n",
              "      quickchartButtonEl.style.display =\n",
              "        google.colab.kernel.accessAllowed ? 'block' : 'none';\n",
              "    })();\n",
              "  </script>\n",
              "</div>\n",
              "\n",
              "    </div>\n",
              "  </div>\n"
            ],
            "application/vnd.google.colaboratory.intrinsic+json": {
              "type": "dataframe",
              "repr_error": "0"
            }
          },
          "metadata": {},
          "execution_count": 98
        }
      ]
    },
    {
      "cell_type": "code",
      "source": [
        "df.info()"
      ],
      "metadata": {
        "colab": {
          "base_uri": "https://localhost:8080/"
        },
        "id": "yAM49vfH7fZf",
        "outputId": "a750b0cf-e7ee-4ab5-ce1b-4d2e3a404c09"
      },
      "execution_count": 99,
      "outputs": [
        {
          "output_type": "stream",
          "name": "stdout",
          "text": [
            "<class 'pandas.core.frame.DataFrame'>\n",
            "RangeIndex: 35041 entries, 0 to 35040\n",
            "Data columns (total 9 columns):\n",
            " #   Column                                Non-Null Count  Dtype  \n",
            "---  ------                                --------------  -----  \n",
            " 0   Date_Time                             35041 non-null  object \n",
            " 1   Usage_kWh                             33482 non-null  float64\n",
            " 2   Lagging_Current_Reactive.Power_kVarh  34165 non-null  float64\n",
            " 3   Leading_Current_Reactive_Power_kVarh  33885 non-null  float64\n",
            " 4   CO2(tCO2)                             34586 non-null  float64\n",
            " 5   Lagging_Current_Power_Factor          34691 non-null  float64\n",
            " 6   Leading_Current_Power_Factor          33570 non-null  float64\n",
            " 7   NSM                                   34586 non-null  float64\n",
            " 8   Load_Type                             35041 non-null  object \n",
            "dtypes: float64(7), object(2)\n",
            "memory usage: 2.4+ MB\n"
          ]
        }
      ]
    },
    {
      "cell_type": "code",
      "source": [
        "df.shape"
      ],
      "metadata": {
        "id": "1alFlZK27fem",
        "colab": {
          "base_uri": "https://localhost:8080/"
        },
        "outputId": "e06875b2-6dd2-43ec-beb8-fd05a6c7967b"
      },
      "execution_count": 100,
      "outputs": [
        {
          "output_type": "execute_result",
          "data": {
            "text/plain": [
              "(35041, 9)"
            ]
          },
          "metadata": {},
          "execution_count": 100
        }
      ]
    },
    {
      "cell_type": "markdown",
      "source": [
        "## Converting Date_Time to datetime format"
      ],
      "metadata": {
        "id": "MxJlYfam8kRg"
      }
    },
    {
      "cell_type": "code",
      "source": [
        "\n",
        "df['Date_Time'] = pd.to_datetime(df['Date_Time'],  format=\"%d-%m-%Y %H:%M\")"
      ],
      "metadata": {
        "id": "QBYPr3LY7fhP"
      },
      "execution_count": 101,
      "outputs": []
    },
    {
      "cell_type": "markdown",
      "source": [
        "## Finding Nulls"
      ],
      "metadata": {
        "id": "ZwkRghwE87wW"
      }
    },
    {
      "cell_type": "code",
      "source": [
        "df.isnull().sum()"
      ],
      "metadata": {
        "colab": {
          "base_uri": "https://localhost:8080/"
        },
        "id": "85qqvid17fjo",
        "outputId": "4f081f8a-7db8-4070-e2b6-fe67c4c516d7"
      },
      "execution_count": 172,
      "outputs": [
        {
          "output_type": "execute_result",
          "data": {
            "text/plain": [
              "Date_Time                                  0\n",
              "Usage_kWh                               1559\n",
              "Lagging_Current_Reactive.Power_kVarh     876\n",
              "Leading_Current_Reactive_Power_kVarh    1156\n",
              "CO2(tCO2)                                455\n",
              "Lagging_Current_Power_Factor             350\n",
              "Leading_Current_Power_Factor            1471\n",
              "NSM                                      455\n",
              "Load_Type                                  0\n",
              "dtype: int64"
            ]
          },
          "metadata": {},
          "execution_count": 172
        }
      ]
    },
    {
      "cell_type": "code",
      "source": [
        "df.shape"
      ],
      "metadata": {
        "colab": {
          "base_uri": "https://localhost:8080/"
        },
        "id": "qnkprCjR7flv",
        "outputId": "fa039ed4-8be2-4907-9e5d-bac68e17027d"
      },
      "execution_count": 171,
      "outputs": [
        {
          "output_type": "execute_result",
          "data": {
            "text/plain": [
              "(35041, 9)"
            ]
          },
          "metadata": {},
          "execution_count": 171
        }
      ]
    },
    {
      "cell_type": "code",
      "source": [
        "df1 = df.copy()"
      ],
      "metadata": {
        "id": "RJ73o2Rf7foR"
      },
      "execution_count": 173,
      "outputs": []
    },
    {
      "cell_type": "code",
      "source": [
        "df2 = df1.copy()"
      ],
      "metadata": {
        "id": "kQ-RMGN-7fq4"
      },
      "execution_count": 174,
      "outputs": []
    },
    {
      "cell_type": "code",
      "source": [
        "d=df.copy()"
      ],
      "metadata": {
        "id": "DScPXtUG7ft-"
      },
      "execution_count": 175,
      "outputs": []
    },
    {
      "cell_type": "code",
      "source": [
        "c=df.copy()\n"
      ],
      "metadata": {
        "id": "zrmg4pmt7fw2"
      },
      "execution_count": 176,
      "outputs": []
    },
    {
      "cell_type": "code",
      "source": [
        "from sklearn.impute import SimpleImputer\n",
        "import numpy as np"
      ],
      "metadata": {
        "id": "37t47rew7fzg"
      },
      "execution_count": 108,
      "outputs": []
    },
    {
      "cell_type": "markdown",
      "source": [
        "##Data Preprocessing\n",
        "## Handle missing values"
      ],
      "metadata": {
        "id": "YcezO8VT9X9g"
      }
    },
    {
      "cell_type": "code",
      "source": [
        "df1.isnull().sum()"
      ],
      "metadata": {
        "colab": {
          "base_uri": "https://localhost:8080/"
        },
        "id": "Sal105JW7f4d",
        "outputId": "80b3ff7f-f2b9-442f-a653-a8421431a6e8"
      },
      "execution_count": 177,
      "outputs": [
        {
          "output_type": "execute_result",
          "data": {
            "text/plain": [
              "Date_Time                                  0\n",
              "Usage_kWh                               1559\n",
              "Lagging_Current_Reactive.Power_kVarh     876\n",
              "Leading_Current_Reactive_Power_kVarh    1156\n",
              "CO2(tCO2)                                455\n",
              "Lagging_Current_Power_Factor             350\n",
              "Leading_Current_Power_Factor            1471\n",
              "NSM                                      455\n",
              "Load_Type                                  0\n",
              "dtype: int64"
            ]
          },
          "metadata": {},
          "execution_count": 177
        }
      ]
    },
    {
      "cell_type": "code",
      "source": [
        "imputer = SimpleImputer(missing_values=np.nan, strategy='mean')\n",
        "imputer.fit(df1.iloc[:,1:8].values)\n",
        "df1.iloc[:,1:8]=imputer.transform(df1.iloc[:,1:8].values)"
      ],
      "metadata": {
        "id": "9kpoYoZT7f68"
      },
      "execution_count": 178,
      "outputs": []
    },
    {
      "cell_type": "code",
      "source": [
        "df1.isnull().sum()"
      ],
      "metadata": {
        "colab": {
          "base_uri": "https://localhost:8080/"
        },
        "id": "hgXOFocm7f9m",
        "outputId": "e9e0214e-662f-4b5b-c702-4763daa9c752"
      },
      "execution_count": 179,
      "outputs": [
        {
          "output_type": "execute_result",
          "data": {
            "text/plain": [
              "Date_Time                               0\n",
              "Usage_kWh                               0\n",
              "Lagging_Current_Reactive.Power_kVarh    0\n",
              "Leading_Current_Reactive_Power_kVarh    0\n",
              "CO2(tCO2)                               0\n",
              "Lagging_Current_Power_Factor            0\n",
              "Leading_Current_Power_Factor            0\n",
              "NSM                                     0\n",
              "Load_Type                               0\n",
              "dtype: int64"
            ]
          },
          "metadata": {},
          "execution_count": 179
        }
      ]
    },
    {
      "cell_type": "markdown",
      "source": [
        "## checking for dublicates"
      ],
      "metadata": {
        "id": "Td8OjffnCltS"
      }
    },
    {
      "cell_type": "code",
      "source": [
        "df1.duplicated().sum()"
      ],
      "metadata": {
        "id": "BOLj1X1s7gAN",
        "colab": {
          "base_uri": "https://localhost:8080/"
        },
        "outputId": "6142c5a9-b28d-4ab7-f453-e5d6b0308586"
      },
      "execution_count": 180,
      "outputs": [
        {
          "output_type": "execute_result",
          "data": {
            "text/plain": [
              "0"
            ]
          },
          "metadata": {},
          "execution_count": 180
        }
      ]
    },
    {
      "cell_type": "markdown",
      "source": [
        "## Checking skewness of frequency distribution"
      ],
      "metadata": {
        "id": "Nh3bQhv4Csq4"
      }
    },
    {
      "cell_type": "code",
      "source": [
        "df.hist(figsize=(10,10))"
      ],
      "metadata": {
        "id": "zjSBsJPj7gCo",
        "colab": {
          "base_uri": "https://localhost:8080/",
          "height": 992
        },
        "outputId": "3fefae83-6b1f-42af-f2e9-2b21f6f455db"
      },
      "execution_count": 181,
      "outputs": [
        {
          "output_type": "execute_result",
          "data": {
            "text/plain": [
              "array([[<Axes: title={'center': 'Date_Time'}>,\n",
              "        <Axes: title={'center': 'Usage_kWh'}>,\n",
              "        <Axes: title={'center': 'Lagging_Current_Reactive.Power_kVarh'}>],\n",
              "       [<Axes: title={'center': 'Leading_Current_Reactive_Power_kVarh'}>,\n",
              "        <Axes: title={'center': 'CO2(tCO2)'}>,\n",
              "        <Axes: title={'center': 'Lagging_Current_Power_Factor'}>],\n",
              "       [<Axes: title={'center': 'Leading_Current_Power_Factor'}>,\n",
              "        <Axes: title={'center': 'NSM'}>, <Axes: >]], dtype=object)"
            ]
          },
          "metadata": {},
          "execution_count": 181
        },
        {
          "output_type": "display_data",
          "data": {
            "text/plain": [
              "<Figure size 1000x1000 with 9 Axes>"
            ],
            "image/png": "[encoded data removed]"
          },
          "metadata": {}
        }
      ]
    },
    {
      "cell_type": "code",
      "source": [
        "import seaborn as sns\n",
        "sns.distplot(df1['Usage_kWh'])"
      ],
      "metadata": {
        "id": "5fc3i2QL7gFe",
        "colab": {
          "base_uri": "https://localhost:8080/",
          "height": 658
        },
        "outputId": "0e28c731-947a-4fc2-d233-ca7e97962075"
      },
      "execution_count": 114,
      "outputs": [
        {
          "output_type": "stream",
          "name": "stderr",
          "text": [
            "<ipython-input-114-08c63f4c7da3>:2: UserWarning: \n",
            "\n",
            "`distplot` is a deprecated function and will be removed in seaborn v0.14.0.\n",
            "\n",
            "Please adapt your code to use either `displot` (a figure-level function with\n",
            "similar flexibility) or `histplot` (an axes-level function for histograms).\n",
            "\n",
            "For a guide to updating your code to use the new functions, please see\n",
            "https://gist.github.com/mwaskom/de44147ed2974457ad6372750bbe5751\n",
            "\n",
            "  sns.distplot(df1['Usage_kWh'])\n"
          ]
        },
        {
          "output_type": "execute_result",
          "data": {
            "text/plain": [
              "<Axes: xlabel='Usage_kWh', ylabel='Density'>"
            ]
          },
          "metadata": {},
          "execution_count": 114
        },
        {
          "output_type": "display_data",
          "data": {
            "text/plain": [
              "<Figure size 640x480 with 1 Axes>"
            ],
            "image/png": "[encoded data removed]"
          },
          "metadata": {}
        }
      ]
    },
    {
      "cell_type": "code",
      "source": [
        "sns.distplot(df1['NSM'])"
      ],
      "metadata": {
        "id": "mgon2uPd7gH1",
        "colab": {
          "base_uri": "https://localhost:8080/",
          "height": 673
        },
        "outputId": "a62e5208-e849-4db1-ae7a-d2309fed692d"
      },
      "execution_count": 115,
      "outputs": [
        {
          "output_type": "stream",
          "name": "stderr",
          "text": [
            "<ipython-input-115-7931bbf162b6>:1: UserWarning: \n",
            "\n",
            "`distplot` is a deprecated function and will be removed in seaborn v0.14.0.\n",
            "\n",
            "Please adapt your code to use either `displot` (a figure-level function with\n",
            "similar flexibility) or `histplot` (an axes-level function for histograms).\n",
            "\n",
            "For a guide to updating your code to use the new functions, please see\n",
            "https://gist.github.com/mwaskom/de44147ed2974457ad6372750bbe5751\n",
            "\n",
            "  sns.distplot(df1['NSM'])\n"
          ]
        },
        {
          "output_type": "execute_result",
          "data": {
            "text/plain": [
              "<Axes: xlabel='NSM', ylabel='Density'>"
            ]
          },
          "metadata": {},
          "execution_count": 115
        },
        {
          "output_type": "display_data",
          "data": {
            "text/plain": [
              "<Figure size 640x480 with 1 Axes>"
            ],
            "image/png": "[encoded data removed]"
          },
          "metadata": {}
        }
      ]
    },
    {
      "cell_type": "markdown",
      "source": [
        "## Checking for Outliers using Boxplot"
      ],
      "metadata": {
        "id": "ahweUyeaDavM"
      }
    },
    {
      "cell_type": "code",
      "source": [
        "sns.boxplot(df1['Usage_kWh'])"
      ],
      "metadata": {
        "colab": {
          "base_uri": "https://localhost:8080/",
          "height": 428
        },
        "id": "c6p9D94sCU4l",
        "outputId": "2d459beb-b0f0-45cf-e1ec-6acc22ebbd3d"
      },
      "execution_count": 116,
      "outputs": [
        {
          "output_type": "execute_result",
          "data": {
            "text/plain": [
              "<Axes: ylabel='Usage_kWh'>"
            ]
          },
          "metadata": {},
          "execution_count": 116
        },
        {
          "output_type": "display_data",
          "data": {
            "text/plain": [
              "<Figure size 640x480 with 1 Axes>"
            ],
            "image/png": "[encoded data removed]"
          },
          "metadata": {}
        }
      ]
    },
    {
      "cell_type": "code",
      "source": [
        "df1.boxplot()"
      ],
      "metadata": {
        "id": "THSOTcMa7gPh",
        "colab": {
          "base_uri": "https://localhost:8080/",
          "height": 447
        },
        "outputId": "f9098cb2-382d-48c1-b7f6-64c3a1bed73a"
      },
      "execution_count": 117,
      "outputs": [
        {
          "output_type": "execute_result",
          "data": {
            "text/plain": [
              "<Axes: >"
            ]
          },
          "metadata": {},
          "execution_count": 117
        },
        {
          "output_type": "display_data",
          "data": {
            "text/plain": [
              "<Figure size 640x480 with 1 Axes>"
            ],
            "image/png": "[encoded data removed]"
          },
          "metadata": {}
        }
      ]
    },
    {
      "cell_type": "markdown",
      "source": [
        "##  Replacing outliers with median values using IQR"
      ],
      "metadata": {
        "id": "NVfo-MXxy2Dt"
      }
    },
    {
      "cell_type": "code",
      "source": [
        "def outlier_replace(df, attribute):\n",
        "    lq=df[attribute].quantile(0.25)\n",
        "    uq=df[attribute].quantile(0.75)\n",
        "    iqr=uq-lq\n",
        "    lb=lq-1.5*iqr\n",
        "    ub=uq+1.5*iqr\n",
        "    df[df[attribute] > ub]=df[attribute].median()\n",
        "    df [df[attribute] < lb]=df[attribute].median()\n",
        "    return df"
      ],
      "metadata": {
        "id": "_ETD7GD07gSO"
      },
      "execution_count": 182,
      "outputs": []
    },
    {
      "cell_type": "code",
      "source": [
        "dff=df2.select_dtypes(exclude=['datetime64','object'])"
      ],
      "metadata": {
        "id": "laRL4CN27gU3"
      },
      "execution_count": 183,
      "outputs": []
    },
    {
      "cell_type": "code",
      "source": [
        "for i in dff.columns:\n",
        "    df0=outlier_replace(dff,i)"
      ],
      "metadata": {
        "id": "YRo7K4RY7gXY"
      },
      "execution_count": 184,
      "outputs": []
    },
    {
      "cell_type": "code",
      "source": [
        "dff['Date_Time']=df2[['Date_Time']]"
      ],
      "metadata": {
        "id": "CxtLetwA7gZr"
      },
      "execution_count": 185,
      "outputs": []
    },
    {
      "cell_type": "code",
      "source": [
        "dff['Load_Type']=df2[['Load_Type']]"
      ],
      "metadata": {
        "id": "1OI5OJty7gmc"
      },
      "execution_count": 186,
      "outputs": []
    },
    {
      "cell_type": "code",
      "source": [
        "data_subset.isnull().sum()"
      ],
      "metadata": {
        "id": "tpzCjCGD7gsk",
        "colab": {
          "base_uri": "https://localhost:8080/"
        },
        "outputId": "e0b697bc-4897-4742-f52c-b09b9bf7ed10"
      },
      "execution_count": 236,
      "outputs": [
        {
          "output_type": "execute_result",
          "data": {
            "text/plain": [
              "Usage_kWh                               1061\n",
              "Lagging_Current_Reactive.Power_kVarh     640\n",
              "Leading_Current_Reactive_Power_kVarh     966\n",
              "CO2(tCO2)                                316\n",
              "NSM                                      329\n",
              "Month                                      0\n",
              "Day                                        0\n",
              "Hour                                       0\n",
              "Load_Type                                  0\n",
              "dtype: int64"
            ]
          },
          "metadata": {},
          "execution_count": 236
        }
      ]
    },
    {
      "cell_type": "code",
      "source": [
        "data_subset.dropna()"
      ],
      "metadata": {
        "colab": {
          "base_uri": "https://localhost:8080/",
          "height": 443
        },
        "id": "XMVLnVG5wr23",
        "outputId": "aa0ad611-26e6-4b4e-a5f2-330fd44abe8c"
      },
      "execution_count": 237,
      "outputs": [
        {
          "output_type": "execute_result",
          "data": {
            "text/plain": [
              "          Usage_kWh  Lagging_Current_Reactive.Power_kVarh  \\\n",
              "0          8.753692                                  2.95   \n",
              "1          4.000000                                  4.46   \n",
              "2          3.240000                                  3.28   \n",
              "3          3.310000                                  3.56   \n",
              "4          3.820000                                  4.50   \n",
              "...             ...                                   ...   \n",
              "35036      3.740000                                  3.74   \n",
              "35037  18900.000000                              18900.00   \n",
              "35038      3.780000                                  3.06   \n",
              "35039      3.670000                                  3.02   \n",
              "35040      0.000000                                  0.00   \n",
              "\n",
              "       Leading_Current_Reactive_Power_kVarh  CO2(tCO2)           NSM  Month  \\\n",
              "0                                  0.000000        0.0    900.000000      1   \n",
              "1                                  0.000000        0.0   1800.000000      1   \n",
              "2                                  0.000000        0.0   8070.880991      1   \n",
              "3                                  0.000000        0.0   3600.000000      1   \n",
              "4                                  0.000000        0.0   4500.000000      1   \n",
              "...                                     ...        ...           ...    ...   \n",
              "35036                              0.000000        0.0  83700.000000     12   \n",
              "35037                          18900.000000    18900.0  18900.000000     12   \n",
              "35038                              0.110000        0.0  85500.000000     12   \n",
              "35039                              0.174801        0.0      0.000000     12   \n",
              "35040                              0.000000        0.0      0.000000     12   \n",
              "\n",
              "       Day  Hour  Load_Type  \n",
              "0        1     0          0  \n",
              "1        1     0          0  \n",
              "2        1     0          0  \n",
              "3        1     1          0  \n",
              "4        1     1          0  \n",
              "...    ...   ...        ...  \n",
              "35036   31    23          0  \n",
              "35037   31    23          0  \n",
              "35038   31    23          0  \n",
              "35039   31     0          0  \n",
              "35040   31    20          0  \n",
              "\n",
              "[31890 rows x 9 columns]"
            ],
            "text/html": [
              "\n",
              "  <div id=\"df-8c1f385a-4f4d-48e1-9665-cfc92ef34b8f\" class=\"colab-df-container\">\n",
              "    <div>\n",
              "<style scoped>\n",
              "    .dataframe tbody tr th:only-of-type {\n",
              "        vertical-align: middle;\n",
              "    }\n",
              "\n",
              "    .dataframe tbody tr th {\n",
              "        vertical-align: top;\n",
              "    }\n",
              "\n",
              "    .dataframe thead th {\n",
              "        text-align: right;\n",
              "    }\n",
              "</style>\n",
              "<table border=\"1\" class=\"dataframe\">\n",
              "  <thead>\n",
              "    <tr style=\"text-align: right;\">\n",
              "      <th></th>\n",
              "      <th>Usage_kWh</th>\n",
              "      <th>Lagging_Current_Reactive.Power_kVarh</th>\n",
              "      <th>Leading_Current_Reactive_Power_kVarh</th>\n",
              "      <th>CO2(tCO2)</th>\n",
              "      <th>NSM</th>\n",
              "      <th>Month</th>\n",
              "      <th>Day</th>\n",
              "      <th>Hour</th>\n",
              "      <th>Load_Type</th>\n",
              "    </tr>\n",
              "  </thead>\n",
              "  <tbody>\n",
              "    <tr>\n",
              "      <th>0</th>\n",
              "      <td>8.753692</td>\n",
              "      <td>2.95</td>\n",
              "      <td>0.000000</td>\n",
              "      <td>0.0</td>\n",
              "      <td>900.000000</td>\n",
              "      <td>1</td>\n",
              "      <td>1</td>\n",
              "      <td>0</td>\n",
              "      <td>0</td>\n",
              "    </tr>\n",
              "    <tr>\n",
              "      <th>1</th>\n",
              "      <td>4.000000</td>\n",
              "      <td>4.46</td>\n",
              "      <td>0.000000</td>\n",
              "      <td>0.0</td>\n",
              "      <td>1800.000000</td>\n",
              "      <td>1</td>\n",
              "      <td>1</td>\n",
              "      <td>0</td>\n",
              "      <td>0</td>\n",
              "    </tr>\n",
              "    <tr>\n",
              "      <th>2</th>\n",
              "      <td>3.240000</td>\n",
              "      <td>3.28</td>\n",
              "      <td>0.000000</td>\n",
              "      <td>0.0</td>\n",
              "      <td>8070.880991</td>\n",
              "      <td>1</td>\n",
              "      <td>1</td>\n",
              "      <td>0</td>\n",
              "      <td>0</td>\n",
              "    </tr>\n",
              "    <tr>\n",
              "      <th>3</th>\n",
              "      <td>3.310000</td>\n",
              "      <td>3.56</td>\n",
              "      <td>0.000000</td>\n",
              "      <td>0.0</td>\n",
              "      <td>3600.000000</td>\n",
              "      <td>1</td>\n",
              "      <td>1</td>\n",
              "      <td>1</td>\n",
              "      <td>0</td>\n",
              "    </tr>\n",
              "    <tr>\n",
              "      <th>4</th>\n",
              "      <td>3.820000</td>\n",
              "      <td>4.50</td>\n",
              "      <td>0.000000</td>\n",
              "      <td>0.0</td>\n",
              "      <td>4500.000000</td>\n",
              "      <td>1</td>\n",
              "      <td>1</td>\n",
              "      <td>1</td>\n",
              "      <td>0</td>\n",
              "    </tr>\n",
              "    <tr>\n",
              "      <th>...</th>\n",
              "      <td>...</td>\n",
              "      <td>...</td>\n",
              "      <td>...</td>\n",
              "      <td>...</td>\n",
              "      <td>...</td>\n",
              "      <td>...</td>\n",
              "      <td>...</td>\n",
              "      <td>...</td>\n",
              "      <td>...</td>\n",
              "    </tr>\n",
              "    <tr>\n",
              "      <th>35036</th>\n",
              "      <td>3.740000</td>\n",
              "      <td>3.74</td>\n",
              "      <td>0.000000</td>\n",
              "      <td>0.0</td>\n",
              "      <td>83700.000000</td>\n",
              "      <td>12</td>\n",
              "      <td>31</td>\n",
              "      <td>23</td>\n",
              "      <td>0</td>\n",
              "    </tr>\n",
              "    <tr>\n",
              "      <th>35037</th>\n",
              "      <td>18900.000000</td>\n",
              "      <td>18900.00</td>\n",
              "      <td>18900.000000</td>\n",
              "      <td>18900.0</td>\n",
              "      <td>18900.000000</td>\n",
              "      <td>12</td>\n",
              "      <td>31</td>\n",
              "      <td>23</td>\n",
              "      <td>0</td>\n",
              "    </tr>\n",
              "    <tr>\n",
              "      <th>35038</th>\n",
              "      <td>3.780000</td>\n",
              "      <td>3.06</td>\n",
              "      <td>0.110000</td>\n",
              "      <td>0.0</td>\n",
              "      <td>85500.000000</td>\n",
              "      <td>12</td>\n",
              "      <td>31</td>\n",
              "      <td>23</td>\n",
              "      <td>0</td>\n",
              "    </tr>\n",
              "    <tr>\n",
              "      <th>35039</th>\n",
              "      <td>3.670000</td>\n",
              "      <td>3.02</td>\n",
              "      <td>0.174801</td>\n",
              "      <td>0.0</td>\n",
              "      <td>0.000000</td>\n",
              "      <td>12</td>\n",
              "      <td>31</td>\n",
              "      <td>0</td>\n",
              "      <td>0</td>\n",
              "    </tr>\n",
              "    <tr>\n",
              "      <th>35040</th>\n",
              "      <td>0.000000</td>\n",
              "      <td>0.00</td>\n",
              "      <td>0.000000</td>\n",
              "      <td>0.0</td>\n",
              "      <td>0.000000</td>\n",
              "      <td>12</td>\n",
              "      <td>31</td>\n",
              "      <td>20</td>\n",
              "      <td>0</td>\n",
              "    </tr>\n",
              "  </tbody>\n",
              "</table>\n",
              "<p>31890 rows × 9 columns</p>\n",
              "</div>\n",
              "    <div class=\"colab-df-buttons\">\n",
              "\n",
              "  <div class=\"colab-df-container\">\n",
              "    <button class=\"colab-df-convert\" onclick=\"convertToInteractive('df-8c1f385a-4f4d-48e1-9665-cfc92ef34b8f')\"\n",
              "            title=\"Convert this dataframe to an interactive table.\"\n",
              "            style=\"display:none;\">\n",
              "\n",
              "  <svg xmlns=\"http://www.w3.org/2000/svg\" height=\"24px\" viewBox=\"0 -960 960 960\">\n",
              "    <path d=\"M120-120v-720h720v720H120Zm60-500h600v-160H180v160Zm220 220h160v-160H400v160Zm0 220h160v-160H400v160ZM180-400h160v-160H180v160Zm440 0h160v-160H620v160ZM180-180h160v-160H180v160Zm440 0h160v-160H620v160Z\"/>\n",
              "  </svg>\n",
              "    </button>\n",
              "\n",
              "  <style>\n",
              "    .colab-df-container {\n",
              "      display:flex;\n",
              "      gap: 12px;\n",
              "    }\n",
              "\n",
              "    .colab-df-convert {\n",
              "      background-color: #E8F0FE;\n",
              "      border: none;\n",
              "      border-radius: 50%;\n",
              "      cursor: pointer;\n",
              "      display: none;\n",
              "      fill: #1967D2;\n",
              "      height: 32px;\n",
              "      padding: 0 0 0 0;\n",
              "      width: 32px;\n",
              "    }\n",
              "\n",
              "    .colab-df-convert:hover {\n",
              "      background-color: #E2EBFA;\n",
              "      box-shadow: 0px 1px 2px rgba(60, 64, 67, 0.3), 0px 1px 3px 1px rgba(60, 64, 67, 0.15);\n",
              "      fill: #174EA6;\n",
              "    }\n",
              "\n",
              "    .colab-df-buttons div {\n",
              "      margin-bottom: 4px;\n",
              "    }\n",
              "\n",
              "    [theme=dark] .colab-df-convert {\n",
              "      background-color: #3B4455;\n",
              "      fill: #D2E3FC;\n",
              "    }\n",
              "\n",
              "    [theme=dark] .colab-df-convert:hover {\n",
              "      background-color: #434B5C;\n",
              "      box-shadow: 0px 1px 3px 1px rgba(0, 0, 0, 0.15);\n",
              "      filter: drop-shadow(0px 1px 2px rgba(0, 0, 0, 0.3));\n",
              "      fill: #FFFFFF;\n",
              "    }\n",
              "  </style>\n",
              "\n",
              "    <script>\n",
              "      const buttonEl =\n",
              "        document.querySelector('#df-8c1f385a-4f4d-48e1-9665-cfc92ef34b8f button.colab-df-convert');\n",
              "      buttonEl.style.display =\n",
              "        google.colab.kernel.accessAllowed ? 'block' : 'none';\n",
              "\n",
              "      async function convertToInteractive(key) {\n",
              "        const element = document.querySelector('#df-8c1f385a-4f4d-48e1-9665-cfc92ef34b8f');\n",
              "        const dataTable =\n",
              "          await google.colab.kernel.invokeFunction('convertToInteractive',\n",
              "                                                    [key], {});\n",
              "        if (!dataTable) return;\n",
              "\n",
              "        const docLinkHtml = 'Like what you see? Visit the ' +\n",
              "          '<a target=\"_blank\" href=https://colab.research.google.com/notebooks/data_table.ipynb>data table notebook</a>'\n",
              "          + ' to learn more about interactive tables.';\n",
              "        element.innerHTML = '';\n",
              "        dataTable['output_type'] = 'display_data';\n",
              "        await google.colab.output.renderOutput(dataTable, element);\n",
              "        const docLink = document.createElement('div');\n",
              "        docLink.innerHTML = docLinkHtml;\n",
              "        element.appendChild(docLink);\n",
              "      }\n",
              "    </script>\n",
              "  </div>\n",
              "\n",
              "\n",
              "<div id=\"df-ed057c97-65e6-4365-92e5-a43c8cb5db30\">\n",
              "  <button class=\"colab-df-quickchart\" onclick=\"quickchart('df-ed057c97-65e6-4365-92e5-a43c8cb5db30')\"\n",
              "            title=\"Suggest charts\"\n",
              "            style=\"display:none;\">\n",
              "\n",
              "<svg xmlns=\"http://www.w3.org/2000/svg\" height=\"24px\"viewBox=\"0 0 24 24\"\n",
              "     width=\"24px\">\n",
              "    <g>\n",
              "        <path d=\"M19 3H5c-1.1 0-2 .9-2 2v14c0 1.1.9 2 2 2h14c1.1 0 2-.9 2-2V5c0-1.1-.9-2-2-2zM9 17H7v-7h2v7zm4 0h-2V7h2v10zm4 0h-2v-4h2v4z\"/>\n",
              "    </g>\n",
              "</svg>\n",
              "  </button>\n",
              "\n",
              "<style>\n",
              "  .colab-df-quickchart {\n",
              "      --bg-color: #E8F0FE;\n",
              "      --fill-color: #1967D2;\n",
              "      --hover-bg-color: #E2EBFA;\n",
              "      --hover-fill-color: #174EA6;\n",
              "      --disabled-fill-color: #AAA;\n",
              "      --disabled-bg-color: #DDD;\n",
              "  }\n",
              "\n",
              "  [theme=dark] .colab-df-quickchart {\n",
              "      --bg-color: #3B4455;\n",
              "      --fill-color: #D2E3FC;\n",
              "      --hover-bg-color: #434B5C;\n",
              "      --hover-fill-color: #FFFFFF;\n",
              "      --disabled-bg-color: #3B4455;\n",
              "      --disabled-fill-color: #666;\n",
              "  }\n",
              "\n",
              "  .colab-df-quickchart {\n",
              "    background-color: var(--bg-color);\n",
              "    border: none;\n",
              "    border-radius: 50%;\n",
              "    cursor: pointer;\n",
              "    display: none;\n",
              "    fill: var(--fill-color);\n",
              "    height: 32px;\n",
              "    padding: 0;\n",
              "    width: 32px;\n",
              "  }\n",
              "\n",
              "  .colab-df-quickchart:hover {\n",
              "    background-color: var(--hover-bg-color);\n",
              "    box-shadow: 0 1px 2px rgba(60, 64, 67, 0.3), 0 1px 3px 1px rgba(60, 64, 67, 0.15);\n",
              "    fill: var(--button-hover-fill-color);\n",
              "  }\n",
              "\n",
              "  .colab-df-quickchart-complete:disabled,\n",
              "  .colab-df-quickchart-complete:disabled:hover {\n",
              "    background-color: var(--disabled-bg-color);\n",
              "    fill: var(--disabled-fill-color);\n",
              "    box-shadow: none;\n",
              "  }\n",
              "\n",
              "  .colab-df-spinner {\n",
              "    border: 2px solid var(--fill-color);\n",
              "    border-color: transparent;\n",
              "    border-bottom-color: var(--fill-color);\n",
              "    animation:\n",
              "      spin 1s steps(1) infinite;\n",
              "  }\n",
              "\n",
              "  @keyframes spin {\n",
              "    0% {\n",
              "      border-color: transparent;\n",
              "      border-bottom-color: var(--fill-color);\n",
              "      border-left-color: var(--fill-color);\n",
              "    }\n",
              "    20% {\n",
              "      border-color: transparent;\n",
              "      border-left-color: var(--fill-color);\n",
              "      border-top-color: var(--fill-color);\n",
              "    }\n",
              "    30% {\n",
              "      border-color: transparent;\n",
              "      border-left-color: var(--fill-color);\n",
              "      border-top-color: var(--fill-color);\n",
              "      border-right-color: var(--fill-color);\n",
              "    }\n",
              "    40% {\n",
              "      border-color: transparent;\n",
              "      border-right-color: var(--fill-color);\n",
              "      border-top-color: var(--fill-color);\n",
              "    }\n",
              "    60% {\n",
              "      border-color: transparent;\n",
              "      border-right-color: var(--fill-color);\n",
              "    }\n",
              "    80% {\n",
              "      border-color: transparent;\n",
              "      border-right-color: var(--fill-color);\n",
              "      border-bottom-color: var(--fill-color);\n",
              "    }\n",
              "    90% {\n",
              "      border-color: transparent;\n",
              "      border-bottom-color: var(--fill-color);\n",
              "    }\n",
              "  }\n",
              "</style>\n",
              "\n",
              "  <script>\n",
              "    async function quickchart(key) {\n",
              "      const quickchartButtonEl =\n",
              "        document.querySelector('#' + key + ' button');\n",
              "      quickchartButtonEl.disabled = true;  // To prevent multiple clicks.\n",
              "      quickchartButtonEl.classList.add('colab-df-spinner');\n",
              "      try {\n",
              "        const charts = await google.colab.kernel.invokeFunction(\n",
              "            'suggestCharts', [key], {});\n",
              "      } catch (error) {\n",
              "        console.error('Error during call to suggestCharts:', error);\n",
              "      }\n",
              "      quickchartButtonEl.classList.remove('colab-df-spinner');\n",
              "      quickchartButtonEl.classList.add('colab-df-quickchart-complete');\n",
              "    }\n",
              "    (() => {\n",
              "      let quickchartButtonEl =\n",
              "        document.querySelector('#df-ed057c97-65e6-4365-92e5-a43c8cb5db30 button');\n",
              "      quickchartButtonEl.style.display =\n",
              "        google.colab.kernel.accessAllowed ? 'block' : 'none';\n",
              "    })();\n",
              "  </script>\n",
              "</div>\n",
              "\n",
              "    </div>\n",
              "  </div>\n"
            ],
            "application/vnd.google.colaboratory.intrinsic+json": {
              "type": "dataframe",
              "summary": "{\n  \"name\": \"data_subset\",\n  \"rows\": 31890,\n  \"fields\": [\n    {\n      \"column\": \"Usage_kWh\",\n      \"properties\": {\n        \"dtype\": \"number\",\n        \"std\": 2594.5459981606496,\n        \"min\": 0.0,\n        \"max\": 18900.0,\n        \"num_unique_values\": 4306,\n        \"samples\": [\n          8.62090797309871,\n          94.61,\n          6.896675096109759\n        ],\n        \"semantic_type\": \"\",\n        \"description\": \"\"\n      }\n    },\n    {\n      \"column\": \"Lagging_Current_Reactive.Power_kVarh\",\n      \"properties\": {\n        \"dtype\": \"number\",\n        \"std\": 2595.6705832380867,\n        \"min\": 0.0,\n        \"max\": 18900.0,\n        \"num_unique_values\": 2876,\n        \"samples\": [\n          30.28,\n          14.645988559255755,\n          39.85\n        ],\n        \"semantic_type\": \"\",\n        \"description\": \"\"\n      }\n    },\n    {\n      \"column\": \"Leading_Current_Reactive_Power_kVarh\",\n      \"properties\": {\n        \"dtype\": \"number\",\n        \"std\": 2596.704690457994,\n        \"min\": 0.0,\n        \"max\": 18900.0,\n        \"num_unique_values\": 656,\n        \"samples\": [\n          4.1,\n          0.5474729611592648,\n          6.52\n        ],\n        \"semantic_type\": \"\",\n        \"description\": \"\"\n      }\n    },\n    {\n      \"column\": \"CO2(tCO2)\",\n      \"properties\": {\n        \"dtype\": \"number\",\n        \"std\": 2596.7813628893673,\n        \"min\": 0.0,\n        \"max\": 18900.0,\n        \"num_unique_values\": 488,\n        \"samples\": [\n          0.0536835095573552,\n          0.0498780241746053,\n          0.0278241040768272\n        ],\n        \"semantic_type\": \"\",\n        \"description\": \"\"\n      }\n    },\n    {\n      \"column\": \"NSM\",\n      \"properties\": {\n        \"dtype\": \"number\",\n        \"std\": 28468.83921912673,\n        \"min\": 0.0,\n        \"max\": 130477.37010899892,\n        \"num_unique_values\": 1690,\n        \"samples\": [\n          101248.71987656927,\n          91486.07166965435,\n          35300.335692386856\n        ],\n        \"semantic_type\": \"\",\n        \"description\": \"\"\n      }\n    },\n    {\n      \"column\": \"Month\",\n      \"properties\": {\n        \"dtype\": \"int32\",\n        \"num_unique_values\": 12,\n        \"samples\": [\n          11,\n          10,\n          1\n        ],\n        \"semantic_type\": \"\",\n        \"description\": \"\"\n      }\n    },\n    {\n      \"column\": \"Day\",\n      \"properties\": {\n        \"dtype\": \"int32\",\n        \"num_unique_values\": 31,\n        \"samples\": [\n          28,\n          16,\n          24\n        ],\n        \"semantic_type\": \"\",\n        \"description\": \"\"\n      }\n    },\n    {\n      \"column\": \"Hour\",\n      \"properties\": {\n        \"dtype\": \"int32\",\n        \"num_unique_values\": 24,\n        \"samples\": [\n          8,\n          16,\n          0\n        ],\n        \"semantic_type\": \"\",\n        \"description\": \"\"\n      }\n    },\n    {\n      \"column\": \"Load_Type\",\n      \"properties\": {\n        \"dtype\": \"number\",\n        \"std\": 0,\n        \"min\": 0,\n        \"max\": 2,\n        \"num_unique_values\": 3,\n        \"samples\": [\n          0,\n          2,\n          1\n        ],\n        \"semantic_type\": \"\",\n        \"description\": \"\"\n      }\n    }\n  ]\n}"
            }
          },
          "metadata": {},
          "execution_count": 237
        }
      ]
    },
    {
      "cell_type": "code",
      "source": [
        "ddff.info()"
      ],
      "metadata": {
        "colab": {
          "base_uri": "https://localhost:8080/"
        },
        "id": "zB9YbC0rwr6Y",
        "outputId": "dcc49af8-83dd-4afc-c9b7-9612a5ee372d"
      },
      "execution_count": 319,
      "outputs": [
        {
          "output_type": "stream",
          "name": "stdout",
          "text": [
            "<class 'pandas.core.frame.DataFrame'>\n",
            "RangeIndex: 35041 entries, 0 to 35040\n",
            "Data columns (total 9 columns):\n",
            " #   Column                                Non-Null Count  Dtype         \n",
            "---  ------                                --------------  -----         \n",
            " 0   Usage_kWh                             33980 non-null  float64       \n",
            " 1   Lagging_Current_Reactive.Power_kVarh  34401 non-null  float64       \n",
            " 2   Leading_Current_Reactive_Power_kVarh  34075 non-null  float64       \n",
            " 3   CO2(tCO2)                             34725 non-null  float64       \n",
            " 4   Lagging_Current_Power_Factor          34804 non-null  float64       \n",
            " 5   Leading_Current_Power_Factor          34012 non-null  float64       \n",
            " 6   NSM                                   34712 non-null  float64       \n",
            " 7   Date_Time                             35041 non-null  datetime64[ns]\n",
            " 8   Load_Type                             35041 non-null  object        \n",
            "dtypes: datetime64[ns](1), float64(7), object(1)\n",
            "memory usage: 2.4+ MB\n"
          ]
        }
      ]
    },
    {
      "cell_type": "code",
      "source": [
        "ddff=dff.copy()"
      ],
      "metadata": {
        "id": "ClNdNEHV7g8l"
      },
      "execution_count": 189,
      "outputs": []
    },
    {
      "cell_type": "code",
      "source": [
        "dff.shape"
      ],
      "metadata": {
        "colab": {
          "base_uri": "https://localhost:8080/"
        },
        "id": "d7tVDndEeqgn",
        "outputId": "e481a4e1-03cc-4bc4-ded5-07337d452e9b"
      },
      "execution_count": 265,
      "outputs": [
        {
          "output_type": "execute_result",
          "data": {
            "text/plain": [
              "(35041, 13)"
            ]
          },
          "metadata": {},
          "execution_count": 265
        }
      ]
    },
    {
      "cell_type": "markdown",
      "source": [
        "# Feature Engineering\n",
        "# Extract date-related information from the \"Date\" column"
      ],
      "metadata": {
        "id": "f-EoQ2ijzSMP"
      }
    },
    {
      "cell_type": "code",
      "source": [
        "\n",
        "dff['Month'] = dff['Date_Time'].dt.month\n",
        "dff['Day'] = dff['Date_Time'].dt.day\n",
        "dff['Hour'] = dff['Date_Time'].dt.hour\n",
        "dff['Minute'] = dff['Date_Time'].dt.minute\n",
        "\n",
        "selected_features = ['Usage_kWh', 'Lagging_Current_Reactive.Power_kVarh', 'Leading_Current_Reactive_Power_kVarh',\n",
        "                     'CO2(tCO2)', 'NSM', 'Month', 'Day', 'Hour','Date_Time', 'Load_Type']\n",
        "data_subset = dff[selected_features]\n"
      ],
      "metadata": {
        "id": "8K-SRH5WoCUK"
      },
      "execution_count": 309,
      "outputs": []
    },
    {
      "cell_type": "markdown",
      "source": [
        "# Subset the data with selected features"
      ],
      "metadata": {
        "id": "Pbw6ie-61FhT"
      }
    },
    {
      "cell_type": "code",
      "source": [
        "data_subset = dff[selected_features]"
      ],
      "metadata": {
        "id": "z8dpJFdc1A1u"
      },
      "execution_count": 310,
      "outputs": []
    },
    {
      "cell_type": "code",
      "source": [
        "imputer = SimpleImputer(missing_values=np.nan, strategy='mean')\n",
        "imputer.fit(dff.iloc[:,0:7].values)\n",
        "dff.iloc[:,0:7]=imputer.transform(dff.iloc[:,0:7].values)"
      ],
      "metadata": {
        "id": "6sQzDZsReyQc"
      },
      "execution_count": 196,
      "outputs": []
    },
    {
      "cell_type": "code",
      "source": [
        "data_subset.isnull().sum()"
      ],
      "metadata": {
        "colab": {
          "base_uri": "https://localhost:8080/"
        },
        "id": "TPAR1kdpoYsU",
        "outputId": "b9cf7600-601b-4b99-b1a1-0ebb5a414ae0"
      },
      "execution_count": 284,
      "outputs": [
        {
          "output_type": "execute_result",
          "data": {
            "text/plain": [
              "Usage_kWh                               0\n",
              "Lagging_Current_Reactive.Power_kVarh    0\n",
              "Leading_Current_Reactive_Power_kVarh    0\n",
              "CO2(tCO2)                               0\n",
              "NSM                                     0\n",
              "Month                                   0\n",
              "Day                                     0\n",
              "Hour                                    0\n",
              "Load_Type                               0\n",
              "dtype: int64"
            ]
          },
          "metadata": {},
          "execution_count": 284
        }
      ]
    },
    {
      "cell_type": "code",
      "source": [
        "import pandas as pd\n",
        "from sklearn.model_selection import train_test_split\n",
        "from sklearn.preprocessing import LabelEncoder, StandardScaler\n",
        "from sklearn.tree import DecisionTreeClassifier\n",
        "from sklearn.metrics import accuracy_score, precision_score, recall_score, f1_score\n",
        "from imblearn.over_sampling import SMOTE\n"
      ],
      "metadata": {
        "colab": {
          "base_uri": "https://localhost:8080/"
        },
        "id": "wYiqdM8DeyT7",
        "outputId": "68a93f91-3a10-44c6-92b1-46c8b2d13685"
      },
      "execution_count": 256,
      "outputs": [
        {
          "output_type": "stream",
          "name": "stderr",
          "text": [
            "<ipython-input-256-b7b0b8ed15d0>:10: SettingWithCopyWarning: \n",
            "A value is trying to be set on a copy of a slice from a DataFrame.\n",
            "Try using .loc[row_indexer,col_indexer] = value instead\n",
            "\n",
            "See the caveats in the documentation: https://pandas.pydata.org/pandas-docs/stable/user_guide/indexing.html#returning-a-view-versus-a-copy\n",
            "  data_subset['Load_Type'] = label_encoder.fit_transform(data_subset['Load_Type'])\n"
          ]
        }
      ]
    },
    {
      "cell_type": "markdown",
      "source": [
        "# Convert categorical variables like \"Load_Type\" into numerical using label encoding"
      ],
      "metadata": {
        "id": "28STXkRQzmKb"
      }
    },
    {
      "cell_type": "code",
      "source": [
        "label_encoder = LabelEncoder()\n",
        "data_subset['Load_Type'] = label_encoder.fit_transform(data_subset['Load_Type'])\n",
        "\n"
      ],
      "metadata": {
        "id": "TPGL-3WGziog"
      },
      "execution_count": null,
      "outputs": []
    },
    {
      "cell_type": "code",
      "source": [
        "data_subset.info()"
      ],
      "metadata": {
        "colab": {
          "base_uri": "https://localhost:8080/"
        },
        "id": "WjWLN-tN4pYB",
        "outputId": "c1916c26-24eb-46be-de2e-ca96440b66b0"
      },
      "execution_count": 283,
      "outputs": [
        {
          "output_type": "stream",
          "name": "stdout",
          "text": [
            "<class 'pandas.core.frame.DataFrame'>\n",
            "RangeIndex: 35041 entries, 0 to 35040\n",
            "Data columns (total 9 columns):\n",
            " #   Column                                Non-Null Count  Dtype  \n",
            "---  ------                                --------------  -----  \n",
            " 0   Usage_kWh                             35041 non-null  float64\n",
            " 1   Lagging_Current_Reactive.Power_kVarh  35041 non-null  float64\n",
            " 2   Leading_Current_Reactive_Power_kVarh  35041 non-null  float64\n",
            " 3   CO2(tCO2)                             35041 non-null  float64\n",
            " 4   NSM                                   35041 non-null  float64\n",
            " 5   Month                                 35041 non-null  int32  \n",
            " 6   Day                                   35041 non-null  int32  \n",
            " 7   Hour                                  35041 non-null  int32  \n",
            " 8   Load_Type                             35041 non-null  int64  \n",
            "dtypes: float64(5), int32(3), int64(1)\n",
            "memory usage: 2.0 MB\n"
          ]
        }
      ]
    },
    {
      "cell_type": "markdown",
      "source": [
        "# Splitting data into features and target variable"
      ],
      "metadata": {
        "id": "_Yr1xDEEzs__"
      }
    },
    {
      "cell_type": "code",
      "source": [
        "\n",
        "X = data_subset.drop('Load_Type', axis=1)\n",
        "y = data_subset['Load_Type']\n"
      ],
      "metadata": {
        "id": "C_6xEHNczirH"
      },
      "execution_count": null,
      "outputs": []
    },
    {
      "cell_type": "markdown",
      "source": [
        "# Split the data into train and test sets"
      ],
      "metadata": {
        "id": "irXl08bZzxel"
      }
    },
    {
      "cell_type": "code",
      "source": [
        "X_train, X_test, y_train, y_test = train_test_split(X, y, test_size=0.2, random_state=42)\n"
      ],
      "metadata": {
        "id": "rL-jrhhxziuv"
      },
      "execution_count": null,
      "outputs": []
    },
    {
      "cell_type": "code",
      "source": [
        "X_train.isnull().sum()"
      ],
      "metadata": {
        "colab": {
          "base_uri": "https://localhost:8080/"
        },
        "id": "hjsEi7_ohr2O",
        "outputId": "3490a347-fcf7-4e22-a9e3-a594e805175c"
      },
      "execution_count": 266,
      "outputs": [
        {
          "output_type": "execute_result",
          "data": {
            "text/plain": [
              "Usage_kWh                               0\n",
              "Lagging_Current_Reactive.Power_kVarh    0\n",
              "Leading_Current_Reactive_Power_kVarh    0\n",
              "CO2(tCO2)                               0\n",
              "NSM                                     0\n",
              "Month                                   0\n",
              "Day                                     0\n",
              "Hour                                    0\n",
              "dtype: int64"
            ]
          },
          "metadata": {},
          "execution_count": 266
        }
      ]
    },
    {
      "cell_type": "code",
      "source": [
        "y_train.isnull().sum()"
      ],
      "metadata": {
        "colab": {
          "base_uri": "https://localhost:8080/"
        },
        "id": "UyT8IvLGxKxq",
        "outputId": "28e8b2b7-2e4a-417d-fe47-bafdc01d2d98"
      },
      "execution_count": 258,
      "outputs": [
        {
          "output_type": "execute_result",
          "data": {
            "text/plain": [
              "0"
            ]
          },
          "metadata": {},
          "execution_count": 258
        }
      ]
    },
    {
      "cell_type": "code",
      "source": [
        "X_train.shape"
      ],
      "metadata": {
        "colab": {
          "base_uri": "https://localhost:8080/"
        },
        "id": "YPKDaf7gxK0H",
        "outputId": "304f3343-2a3d-45be-d6b5-45abea24326b"
      },
      "execution_count": 259,
      "outputs": [
        {
          "output_type": "execute_result",
          "data": {
            "text/plain": [
              "(28032, 8)"
            ]
          },
          "metadata": {},
          "execution_count": 259
        }
      ]
    },
    {
      "cell_type": "code",
      "source": [
        "y_train.shape"
      ],
      "metadata": {
        "colab": {
          "base_uri": "https://localhost:8080/"
        },
        "id": "hagd-D16xK36",
        "outputId": "205ffedd-d0c7-46aa-e937-975ed2a08b93"
      },
      "execution_count": 260,
      "outputs": [
        {
          "output_type": "execute_result",
          "data": {
            "text/plain": [
              "(28032,)"
            ]
          },
          "metadata": {},
          "execution_count": 260
        }
      ]
    },
    {
      "cell_type": "code",
      "source": [
        "X_test = X_test.dropna()"
      ],
      "metadata": {
        "id": "-wJPO0VLhhY_"
      },
      "execution_count": 242,
      "outputs": []
    },
    {
      "cell_type": "code",
      "source": [
        "X_train = X_train.dropna()"
      ],
      "metadata": {
        "id": "sCJrO8AIiJK0"
      },
      "execution_count": 248,
      "outputs": []
    },
    {
      "cell_type": "code",
      "source": [
        "y_test = y_test.dropna()"
      ],
      "metadata": {
        "id": "H7-P7PqovSvc"
      },
      "execution_count": 219,
      "outputs": []
    },
    {
      "cell_type": "code",
      "source": [
        "y_train = y_train.dropna()"
      ],
      "metadata": {
        "id": "pUs7oIq3vSy3"
      },
      "execution_count": 220,
      "outputs": []
    },
    {
      "cell_type": "code",
      "source": [
        "!pip install imbalanced-learn"
      ],
      "metadata": {
        "colab": {
          "base_uri": "https://localhost:8080/"
        },
        "id": "TiGVT_-KkVIB",
        "outputId": "b4d23f64-cd90-49a8-bd98-a3baff3c68b7"
      },
      "execution_count": 133,
      "outputs": [
        {
          "output_type": "stream",
          "name": "stdout",
          "text": [
            "Requirement already satisfied: imbalanced-learn in /usr/local/lib/python3.10/dist-packages (0.10.1)\n",
            "Requirement already satisfied: numpy>=1.17.3 in /usr/local/lib/python3.10/dist-packages (from imbalanced-learn) (1.25.2)\n",
            "Requirement already satisfied: scipy>=1.3.2 in /usr/local/lib/python3.10/dist-packages (from imbalanced-learn) (1.11.4)\n",
            "Requirement already satisfied: scikit-learn>=1.0.2 in /usr/local/lib/python3.10/dist-packages (from imbalanced-learn) (1.2.2)\n",
            "Requirement already satisfied: joblib>=1.1.1 in /usr/local/lib/python3.10/dist-packages (from imbalanced-learn) (1.3.2)\n",
            "Requirement already satisfied: threadpoolctl>=2.0.0 in /usr/local/lib/python3.10/dist-packages (from imbalanced-learn) (3.4.0)\n"
          ]
        }
      ]
    },
    {
      "cell_type": "code",
      "source": [
        "from imblearn.over_sampling import SMOTE\n",
        "from sklearn.model_selection import train_test_split"
      ],
      "metadata": {
        "id": "myRWiuvfkVEi"
      },
      "execution_count": 199,
      "outputs": []
    },
    {
      "cell_type": "code",
      "source": [
        "print(\"Shape of X_train:\", X_train.shape)\n",
        "print(\"Shape of y_train:\", y_train.shape)"
      ],
      "metadata": {
        "colab": {
          "base_uri": "https://localhost:8080/"
        },
        "id": "9fSZP1_QkVCQ",
        "outputId": "20efa64b-6b4c-4290-d818-a157ef90c9b7"
      },
      "execution_count": 211,
      "outputs": [
        {
          "output_type": "stream",
          "name": "stdout",
          "text": [
            "Shape of X_train: (28032, 8)\n",
            "Shape of y_train: (28032,)\n"
          ]
        }
      ]
    },
    {
      "cell_type": "markdown",
      "source": [
        "# Apply SMOTE sampling"
      ],
      "metadata": {
        "id": "JFWtCYqo0EHx"
      }
    },
    {
      "cell_type": "code",
      "source": [
        "smote = SMOTE(random_state=42)\n",
        "X_train_resampled, y_train_resampled = smote.fit_resample(X_train, y_train)\n"
      ],
      "metadata": {
        "id": "ZPoHXG0efP8l"
      },
      "execution_count": 268,
      "outputs": []
    },
    {
      "cell_type": "markdown",
      "source": [
        "# Print the shape of the resampled data"
      ],
      "metadata": {
        "id": "-VN-7jYk0IBm"
      }
    },
    {
      "cell_type": "code",
      "source": [
        "print(\"Resampled dataset shape:\", X_train_resampled.shape, y_train_resampled.shape)"
      ],
      "metadata": {
        "colab": {
          "base_uri": "https://localhost:8080/"
        },
        "id": "v2XA7QhKxzaJ",
        "outputId": "57e07cc8-1d8e-4069-bb23-f5a85afbdbe3"
      },
      "execution_count": 267,
      "outputs": [
        {
          "output_type": "stream",
          "name": "stdout",
          "text": [
            "Resampled dataset shape: (43497, 8) (43497,)\n"
          ]
        }
      ]
    },
    {
      "cell_type": "markdown",
      "source": [
        "# Feature scaling using standard scaler"
      ],
      "metadata": {
        "id": "7HdbdlF90QyF"
      }
    },
    {
      "cell_type": "code",
      "source": [
        "scaler = StandardScaler()\n",
        "X_train_resampled_scaled = scaler.fit_transform(X_train_resampled)\n",
        "X_test_scaled = scaler.transform(X_test)"
      ],
      "metadata": {
        "id": "8Dv0U8lEiVSd"
      },
      "execution_count": 262,
      "outputs": []
    },
    {
      "cell_type": "code",
      "source": [
        "print(X_test_scaled)"
      ],
      "metadata": {
        "colab": {
          "base_uri": "https://localhost:8080/"
        },
        "id": "roLakD2Fl0qD",
        "outputId": "e71ac415-1323-40e1-904e-b293611d5121"
      },
      "execution_count": 269,
      "outputs": [
        {
          "output_type": "stream",
          "name": "stdout",
          "text": [
            "[[-0.15508459 -0.14942827 -0.14841606 ... -0.71780111  1.55970984\n",
            "  -0.93006274]\n",
            " [-0.13453608 -0.13281273 -0.14841606 ...  1.07599373 -1.35619388\n",
            "  -0.13428527]\n",
            " [-0.15739827 -0.15086427 -0.14841606 ... -1.61469853  1.2098014\n",
            "  -0.29344077]\n",
            " ...\n",
            " [-0.15345825 -0.14989065 -0.14836346 ...  1.67392534 -1.70610233\n",
            "  -0.77090724]\n",
            " [-0.14304215 -0.15054098 -0.1479689  ... -0.71780111 -0.18983239\n",
            "  -0.45259626]\n",
            " [-0.15739827 -0.15086427 -0.14841606 ... -0.71780111 -1.00628543\n",
            "   0.66149219]]\n"
          ]
        }
      ]
    },
    {
      "cell_type": "code",
      "source": [
        "import pandas as pd\n",
        "\n",
        "missing_values = pd.DataFrame(X_test_scaled).isnull().sum()\n",
        "print(missing_values)"
      ],
      "metadata": {
        "colab": {
          "base_uri": "https://localhost:8080/"
        },
        "id": "c05Lykt6l0ml",
        "outputId": "f99f244d-03ba-4e08-f7d2-46bdedf3471d"
      },
      "execution_count": 270,
      "outputs": [
        {
          "output_type": "stream",
          "name": "stdout",
          "text": [
            "0    0\n",
            "1    0\n",
            "2    0\n",
            "3    0\n",
            "4    0\n",
            "5    0\n",
            "6    0\n",
            "7    0\n",
            "dtype: int64\n"
          ]
        }
      ]
    },
    {
      "cell_type": "code",
      "source": [
        "X_test_scaled = pd.DataFrame(X_test_scaled)\n",
        "X_test_scaled = X_test_scaled.dropna()"
      ],
      "metadata": {
        "id": "aOkGmL2CuiCH"
      },
      "execution_count": 208,
      "outputs": []
    },
    {
      "cell_type": "code",
      "source": [
        "missing_values = pd.DataFrame(X_test_scaled).isnull().sum()\n",
        "print(missing_values)"
      ],
      "metadata": {
        "colab": {
          "base_uri": "https://localhost:8080/"
        },
        "id": "PBNPTUczuwKo",
        "outputId": "3e3bb73a-7b0c-4a2e-bd10-572ba45a0b10"
      },
      "execution_count": 209,
      "outputs": [
        {
          "output_type": "stream",
          "name": "stdout",
          "text": [
            "0    0\n",
            "1    0\n",
            "2    0\n",
            "3    0\n",
            "4    0\n",
            "5    0\n",
            "6    0\n",
            "7    0\n",
            "dtype: int64\n"
          ]
        }
      ]
    },
    {
      "cell_type": "markdown",
      "source": [
        "# Model Training (Decision Tree)"
      ],
      "metadata": {
        "id": "JiLcddhl0be-"
      }
    },
    {
      "cell_type": "code",
      "source": [
        "model = DecisionTreeClassifier()\n",
        "model.fit(X_train_resampled_scaled, y_train_resampled)"
      ],
      "metadata": {
        "id": "4bSUt6Hf0it1"
      },
      "execution_count": null,
      "outputs": []
    },
    {
      "cell_type": "markdown",
      "source": [
        "# Model Testing"
      ],
      "metadata": {
        "id": "iOXwP-f90lQZ"
      }
    },
    {
      "cell_type": "code",
      "source": [
        "y_pred_test = model.predict(X_test_scaled)"
      ],
      "metadata": {
        "id": "4ficmRjg0ieU"
      },
      "execution_count": 270,
      "outputs": []
    },
    {
      "cell_type": "markdown",
      "source": [
        "# Model Evaluation"
      ],
      "metadata": {
        "id": "rBST3esO0qOu"
      }
    },
    {
      "cell_type": "code",
      "source": [
        "accuracy_test = accuracy_score(y_test, y_pred_test)\n",
        "precision_test = precision_score(y_test, y_pred_test, average='weighted')\n",
        "recall_test = recall_score(y_test, y_pred_test, average='weighted')\n",
        "f1_test = f1_score(y_test, y_pred_test, average='weighted')\n",
        "\n",
        "print(\"Testing Metrics:\")\n",
        "print(f\"Accuracy: {accuracy_test}\")\n",
        "print(f\"Precision: {precision_test}\")\n",
        "print(f\"Recall: {recall_test}\")\n",
        "print(f\"F1 Score: {f1_test}\")"
      ],
      "metadata": {
        "colab": {
          "base_uri": "https://localhost:8080/"
        },
        "id": "itdcaUMRdnQy",
        "outputId": "5a826ae6-6a59-4381-e619-5e7a2ef560b5"
      },
      "execution_count": 271,
      "outputs": [
        {
          "output_type": "stream",
          "name": "stdout",
          "text": [
            "Testing Metrics:\n",
            "Accuracy: 0.9387929804537024\n",
            "Precision: 0.9386885062525137\n",
            "Recall: 0.9387929804537024\n",
            "F1 Score: 0.9387278856830297\n"
          ]
        }
      ]
    },
    {
      "cell_type": "markdown",
      "source": [
        "# Model Training (Logistic Regression)"
      ],
      "metadata": {
        "id": "utm67rHz1nKT"
      }
    },
    {
      "cell_type": "code",
      "source": [
        "from sklearn.linear_model import LogisticRegression\n",
        "model = LogisticRegression()\n",
        "model.fit(X_train_resampled_scaled, y_train_resampled)\n",
        "\n",
        "y_pred_test = model.predict(X_test_scaled)\n",
        "\n",
        "accuracy_test = accuracy_score(y_test, y_pred_test)\n",
        "precision_test = precision_score(y_test, y_pred_test, average='weighted')\n",
        "recall_test = recall_score(y_test, y_pred_test, average='weighted')\n",
        "f1_test = f1_score(y_test, y_pred_test, average='weighted')\n",
        "\n",
        "print(\"Testing Metrics:\")\n",
        "print(f\"Accuracy: {accuracy_test}\")\n",
        "print(f\"Precision: {precision_test}\")\n",
        "print(f\"Recall: {recall_test}\")\n",
        "print(f\"F1 Score: {f1_test}\")"
      ],
      "metadata": {
        "colab": {
          "base_uri": "https://localhost:8080/"
        },
        "id": "ZpgMgFcMdnW4",
        "outputId": "04724580-ba27-4dc2-8d26-3bb9cd291d4b"
      },
      "execution_count": 275,
      "outputs": [
        {
          "output_type": "stream",
          "name": "stdout",
          "text": [
            "Testing Metrics:\n",
            "Accuracy: 0.670138393494079\n",
            "Precision: 0.6847858817382275\n",
            "Recall: 0.670138393494079\n",
            "F1 Score: 0.6751600326714113\n"
          ]
        }
      ]
    },
    {
      "cell_type": "markdown",
      "source": [
        "# Model Training (Random Forest)"
      ],
      "metadata": {
        "id": "Gs3tzHux2MEm"
      }
    },
    {
      "cell_type": "code",
      "source": [
        "from sklearn.ensemble import RandomForestClassifier\n",
        "\n",
        "model = RandomForestClassifier()\n",
        "model.fit(X_train_resampled_scaled, y_train_resampled)\n",
        "\n",
        "y_pred_test = model.predict(X_test_scaled)\n",
        "\n",
        "accuracy_test = accuracy_score(y_test, y_pred_test)\n",
        "precision_test = precision_score(y_test, y_pred_test, average='weighted')\n",
        "recall_test = recall_score(y_test, y_pred_test, average='weighted')\n",
        "f1_test = f1_score(y_test, y_pred_test, average='weighted')\n",
        "\n",
        "print(\"Testing Metrics:\")\n",
        "print(f\"Accuracy: {accuracy_test}\")\n",
        "print(f\"Precision: {precision_test}\")\n",
        "print(f\"Recall: {recall_test}\")\n",
        "print(f\"F1 Score: {f1_test}\")"
      ],
      "metadata": {
        "colab": {
          "base_uri": "https://localhost:8080/"
        },
        "id": "FxXkdc_1dnZu",
        "outputId": "a1f17ad7-2020-4154-fdc3-0d9eee975c61"
      },
      "execution_count": 277,
      "outputs": [
        {
          "output_type": "stream",
          "name": "stdout",
          "text": [
            "Testing Metrics:\n",
            "Accuracy: 0.9462120131259809\n",
            "Precision: 0.946590612893808\n",
            "Recall: 0.9462120131259809\n",
            "F1 Score: 0.946367087966271\n"
          ]
        }
      ]
    },
    {
      "cell_type": "markdown",
      "source": [
        "# Model Training (Gradient Boosting Classifier)"
      ],
      "metadata": {
        "id": "JoKXkKCa2lXY"
      }
    },
    {
      "cell_type": "code",
      "source": [
        "from sklearn.ensemble import GradientBoostingClassifier\n",
        "\n",
        "model = GradientBoostingClassifier()\n",
        "model.fit(X_train_resampled_scaled, y_train_resampled)\n",
        "\n",
        "y_pred_test = model.predict(X_test_scaled)\n",
        "\n",
        "accuracy_test = accuracy_score(y_test, y_pred_test)\n",
        "precision_test = precision_score(y_test, y_pred_test, average='weighted')\n",
        "recall_test = recall_score(y_test, y_pred_test, average='weighted')\n",
        "f1_test = f1_score(y_test, y_pred_test, average='weighted')\n",
        "\n",
        "print(\"Testing Metrics:\")\n",
        "print(f\"Accuracy: {accuracy_test}\")\n",
        "print(f\"Precision: {precision_test}\")\n",
        "print(f\"Recall: {recall_test}\")\n",
        "print(f\"F1 Score: {f1_test}\")\n"
      ],
      "metadata": {
        "colab": {
          "base_uri": "https://localhost:8080/"
        },
        "id": "A9IjbkbQdncc",
        "outputId": "3b3cc80a-f4bb-41b7-f45d-f7f65198739d"
      },
      "execution_count": 279,
      "outputs": [
        {
          "output_type": "stream",
          "name": "stdout",
          "text": [
            "Testing Metrics:\n",
            "Accuracy: 0.8994150378085319\n",
            "Precision: 0.907361519016457\n",
            "Recall: 0.8994150378085319\n",
            "F1 Score: 0.9005597650423219\n"
          ]
        }
      ]
    }
  ]
}